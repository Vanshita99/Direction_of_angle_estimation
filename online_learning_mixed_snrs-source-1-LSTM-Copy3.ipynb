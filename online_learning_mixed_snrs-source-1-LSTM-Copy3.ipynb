{
 "cells": [
  {
   "cell_type": "markdown",
   "metadata": {},
   "source": [
    "## Set GPU using tensorflow"
   ]
  },
  {
   "cell_type": "code",
   "execution_count": 1,
   "metadata": {},
   "outputs": [],
   "source": [
    "import tensorflow as tf\n",
    "gpu_options = tf.GPUOptions(per_process_gpu_memory_fraction=1)\n",
    "sess = tf.Session(config=tf.ConfigProto(gpu_options=gpu_options))"
   ]
  },
  {
   "cell_type": "markdown",
   "metadata": {},
   "source": [
    "## Define Keras Model"
   ]
  },
  {
   "cell_type": "code",
   "execution_count": 2,
   "metadata": {},
   "outputs": [
    {
     "name": "stderr",
     "output_type": "stream",
     "text": [
      "Using TensorFlow backend.\n"
     ]
    }
   ],
   "source": [
    "from keras.layers import Dense,CuDNNLSTM,CuDNNGRU"
   ]
  },
  {
   "cell_type": "code",
   "execution_count": 3,
   "metadata": {},
   "outputs": [],
   "source": [
    "import matlab.engine\n",
    "from datetime import datetime\n",
    "import tensorflow as tf\n",
    "from keras.utils import plot_model\n",
    "from keras.models import Sequential\n",
    "from keras.layers import Input,Dense, Dropout, BatchNormalization, Activation\n",
    "from keras import backend as K\n",
    "from keras.callbacks import Callback\n",
    "#from sklearn.model_selection import train_test_split\n",
    "from keras.callbacks import ModelCheckpoint\n",
    "from keras import optimizers\n",
    "#from sklearn import linear_model\n",
    "#from sklearn import preprocessing\n",
    "import matplotlib.pyplot as plt\n",
    "#from sklearn.utils import shuffle\n",
    "from tensorflow import keras\n",
    "import time\n",
    "from sklearn.metrics import r2_score\n",
    "import numpy as np\n",
    "from sklearn.utils import shuffle\n",
    "from sklearn.preprocessing import MinMaxScaler"
   ]
  },
  {
   "cell_type": "code",
   "execution_count": 4,
   "metadata": {},
   "outputs": [],
   "source": [
    "iteration=0\n",
    "no_of_sources=1\n",
    "batch_size=1\n",
    "samples_per_snr=1000\n",
    "weight_file=\"layers_2_64\""
   ]
  },
  {
   "cell_type": "code",
   "execution_count": 5,
   "metadata": {},
   "outputs": [],
   "source": [
    "def matToPyReshape(matArray):\n",
    "    pyArray=np.zeros((samples_per_snr,16,10))\n",
    "    for i in range(0,samples_per_snr):\n",
    "        C=matArray[0,:,i]\n",
    "        for j in range(1,16):\n",
    "            C=np.column_stack((C,matArray[j,:,i]))\n",
    "        pyArray[i,:]=C.T\n",
    "    return pyArray\n",
    "    "
   ]
  },
  {
   "cell_type": "markdown",
   "metadata": {},
   "source": [
    "#### Define a checkpoint callback:"
   ]
  },
  {
   "cell_type": "code",
   "execution_count": 6,
   "metadata": {},
   "outputs": [],
   "source": [
    "def r_m_s_e(y_true, y_pred):\n",
    "        print(K.int_shape(y_pred))\n",
    "   # if no_of_sources==1:\n",
    "   #     return K.sqrt(K.mean(K.square(K.abs(y_pred-y_true)))) \n",
    "   # else:\n",
    "        total=no_of_sources*batch_size\n",
    "        \n",
    "        b=K.repeat_elements(y_true,no_of_sources,axis=0)\n",
    "        print(\"b \",K.int_shape(b))\n",
    "        c=K.repeat_elements(y_pred,no_of_sources,axis=1)\n",
    "        print(K.int_shape(c))\n",
    "        c=K.reshape(c,(total,no_of_sources))\n",
    "        print(K.int_shape(c))\n",
    "        d=b-c\n",
    "        print(K.int_shape(d))\n",
    "        d=K.abs(d)\n",
    "        mini1=K.min(d,axis=1)\n",
    "        print(K.int_shape(mini1))\n",
    "        mini1=K.reshape(mini1,(batch_size,no_of_sources))\n",
    "        print(K.int_shape(mini1)) \n",
    "        return K.sqrt(K.mean(K.square(mini1),axis=-1))"
   ]
  },
  {
   "cell_type": "code",
   "execution_count": 7,
   "metadata": {},
   "outputs": [],
   "source": [
    "#checkpoint_name = 'Weights-{epoch:03d}--{val_loss:.5f}.hdf5' \n",
    "checkpoint_name1 = weight_file\n",
    "checkpoint1 = ModelCheckpoint(checkpoint_name1, monitor=\"loss\", verbose = 1, save_best_only = False, mode ='auto')\n",
    "\n"
   ]
  },
  {
   "cell_type": "code",
   "execution_count": 8,
   "metadata": {},
   "outputs": [],
   "source": [
    "#X_train, Y_train = shuffle(X_train, Y_train, random_state=0)"
   ]
  },
  {
   "cell_type": "markdown",
   "metadata": {},
   "source": [
    "###  Batch normalization after a  & dr1=0.01 dr2=0.1"
   ]
  },
  {
   "cell_type": "code",
   "execution_count": 9,
   "metadata": {},
   "outputs": [],
   "source": [
    "eng = matlab.engine.start_matlab()"
   ]
  },
  {
   "cell_type": "code",
   "execution_count": 10,
   "metadata": {},
   "outputs": [
    {
     "name": "stderr",
     "output_type": "stream",
     "text": [
      "WARNING: Logging before flag parsing goes to stderr.\n",
      "W0912 12:43:03.309762 140574877312768 deprecation_wrapper.py:119] From /home/iiitd/anaconda3/envs/tf_gpu/lib/python3.6/site-packages/keras/backend/tensorflow_backend.py:74: The name tf.get_default_graph is deprecated. Please use tf.compat.v1.get_default_graph instead.\n",
      "\n",
      "W0912 12:43:03.312941 140574877312768 deprecation_wrapper.py:119] From /home/iiitd/anaconda3/envs/tf_gpu/lib/python3.6/site-packages/keras/backend/tensorflow_backend.py:517: The name tf.placeholder is deprecated. Please use tf.compat.v1.placeholder instead.\n",
      "\n",
      "W0912 12:43:03.646119 140574877312768 deprecation_wrapper.py:119] From /home/iiitd/anaconda3/envs/tf_gpu/lib/python3.6/site-packages/keras/backend/tensorflow_backend.py:4185: The name tf.truncated_normal is deprecated. Please use tf.random.truncated_normal instead.\n",
      "\n",
      "W0912 12:43:03.818570 140574877312768 deprecation_wrapper.py:119] From /home/iiitd/anaconda3/envs/tf_gpu/lib/python3.6/site-packages/keras/optimizers.py:790: The name tf.train.Optimizer is deprecated. Please use tf.compat.v1.train.Optimizer instead.\n",
      "\n",
      "W0912 12:43:03.843643 140574877312768 deprecation_wrapper.py:119] From /home/iiitd/anaconda3/envs/tf_gpu/lib/python3.6/site-packages/keras/backend/tensorflow_backend.py:174: The name tf.get_default_session is deprecated. Please use tf.compat.v1.get_default_session instead.\n",
      "\n",
      "W0912 12:43:03.844349 140574877312768 deprecation_wrapper.py:119] From /home/iiitd/anaconda3/envs/tf_gpu/lib/python3.6/site-packages/keras/backend/tensorflow_backend.py:181: The name tf.ConfigProto is deprecated. Please use tf.compat.v1.ConfigProto instead.\n",
      "\n"
     ]
    }
   ],
   "source": [
    "rate=0.001\n",
    "model = Sequential()\n",
    "dr=0\n",
    "#model.add(RepeatVector(16,input_shape=(256,)))\n",
    "\n",
    "model.add(CuDNNLSTM(128,return_sequences=True,kernel_initializer=\"glorot_normal\",input_shape=(10,32)))\n",
    "model.add(Dropout(dr))\n",
    "#model.add(BatchNormalization())\n",
    "model.add(CuDNNLSTM(128,return_sequences=False,kernel_initializer=\"glorot_normal\"))\n",
    "model.add(Dropout(dr))\n",
    "#model.add(BatchNormalization())\n",
    "#model.add(Dropout(dr))\n",
    "\n",
    "model.add(Dense(no_of_sources, kernel_initializer='he_normal'))\n",
    "adam=optimizers.Adam(lr=rate)\n",
    "model.compile(optimizer=adam, loss=\"mean_absolute_error\", metrics=[\"mean_absolute_error\"])\n",
    "\n",
    "model.load_weights(weight_file)\n",
    "callbacks_list = [checkpoint1]\n",
    "#model.compile(loss='categorical_crossentropy',\n",
    "              #optimizer='adam', metrics=[\"accuracy\"])\n"
   ]
  },
  {
   "cell_type": "code",
   "execution_count": 11,
   "metadata": {},
   "outputs": [],
   "source": [
    "def Signal_gen(snr):\n",
    "    X_real, X_imag, label =eng.doa(snr,samples_per_snr,no_of_sources,nargout=3)\n",
    "    X_real=np.asarray(X_real)\n",
    "    X_imag=np.asarray(X_imag)\n",
    "    label=np.asarray(label)\n",
    "    a=matToPyReshape(X_real)\n",
    "    b=matToPyReshape(X_imag)\n",
    "    X_real_imag=np.zeros((samples_per_snr,32,10))\n",
    "    for j in range(samples_per_snr):\n",
    "        X_real_imag[j,]=np.concatenate((a[j,],b[j,]),axis=0)\n",
    "        \n",
    "    m=np.zeros((X_real_imag.shape[0],X_real_imag.shape[2],X_real_imag.shape[1]))\n",
    "    for i in range(X_real_imag.shape[0]):\n",
    "        for j in range(X_real_imag.shape[2]):\n",
    "            m[i,j,:]=X_real_imag[i,:,j]\n",
    "    X_real_imag=m\n",
    "    \n",
    "    #PREPROCESSING\n",
    "    scaler = MinMaxScaler()\n",
    "    for k in range(X_real_imag.shape[0]):\n",
    "        X_real_imag[k,:,:]=scaler.fit_transform(X_real_imag[k,:,:])\n",
    "    return X_real_imag,label"
   ]
  },
  {
   "cell_type": "code",
   "execution_count": null,
   "metadata": {
    "scrolled": true
   },
   "outputs": [],
   "source": [
    "#SNRs=[10.0,15.0,20.0,25.0]\n",
    "SNRs=[10.0,15.0,20.0,25.0]\n",
    "while True:\n",
    "    X_train, y_train=Signal_gen(5.0)\n",
    "    for snr in SNRs:\n",
    "        X, y=Signal_gen(snr)\n",
    "        X_train=np.vstack((X_train,X))\n",
    "        y_train=np.vstack((y_train,y))\n",
    "    model.fit(X_train,y_train,epochs=1,callbacks=callbacks_list,verbose=1,batch_size=batch_size,shuffle=False)\n",
    "    iteration=iteration+1\n",
    "    print(iteration)"
   ]
  },
  {
   "cell_type": "markdown",
   "metadata": {},
   "source": [
    "### Evaluate the results"
   ]
  },
  {
   "cell_type": "code",
   "execution_count": 12,
   "metadata": {},
   "outputs": [],
   "source": [
    "model.load_weights(weight_file)"
   ]
  },
  {
   "cell_type": "code",
   "execution_count": 13,
   "metadata": {},
   "outputs": [],
   "source": [
    "samples_per_snr=50000"
   ]
  },
  {
   "cell_type": "code",
   "execution_count": 14,
   "metadata": {
    "scrolled": true
   },
   "outputs": [],
   "source": [
    "SNRs=[5.0,10.0,15.0,20.0,25.0]\n",
    "b1=np.zeros((5,))\n",
    "b2=np.zeros((5,))\n",
    "i=0\n",
    "for snr in SNRs:\n",
    "        X_test, y_test=Signal_gen(snr)\n",
    "        b1[i]=model.evaluate(X_test,y_test,verbose=0,batch_size=batch_size)[0]\n",
    "        i=i+1"
   ]
  },
  {
   "cell_type": "code",
   "execution_count": 15,
   "metadata": {},
   "outputs": [
    {
     "data": {
      "text/plain": [
       "array([4.43216945, 3.71509476, 3.14285833, 3.06905892, 3.08226219])"
      ]
     },
     "execution_count": 15,
     "metadata": {},
     "output_type": "execute_result"
    }
   ],
   "source": [
    "b1"
   ]
  },
  {
   "cell_type": "code",
   "execution_count": 17,
   "metadata": {},
   "outputs": [
    {
     "data": {
      "image/png": "[encoded data removed]",
      "text/plain": [
       "<Figure size 432x288 with 1 Axes>"
      ]
     },
     "metadata": {
      "needs_background": "light"
     },
     "output_type": "display_data"
    }
   ],
   "source": [
    "x = np.linspace(5, 25, 5)\n",
    "\n",
    "plt.plot(x, b1, label='linear')\n",
    "\n",
    "plt.title('source=1 with snapshots=10')\n",
    "plt.ylabel('LOSS')\n",
    "plt.xlabel('SNR')\n",
    "#plt.legend(['train', 'test'], loc='upper left')\n",
    "plt.show()\n"
   ]
  },
  {
   "cell_type": "code",
   "execution_count": null,
   "metadata": {},
   "outputs": [],
   "source": [
    "model.save_weights(\"weight_initialization_sir.hdf5\")"
   ]
  },
  {
   "cell_type": "code",
   "execution_count": null,
   "metadata": {},
   "outputs": [],
   "source": [
    "#SNRs=[10.0,15.0,20.0,25.0]\n",
    "SNRs=[5.0,10.0,15.0,20.0,25.0]\n",
    "while True:\n",
    "    for snr in SNRs:\n",
    "        X, y=Signal_gen(snr)\n",
    "        loss=model.train_on_batch(X, y)\n",
    "        print(loss)\n",
    "    iteration=iteration+1\n",
    "    print(iteration)"
   ]
  },
  {
   "cell_type": "code",
   "execution_count": null,
   "metadata": {},
   "outputs": [],
   "source": [
    "model.evaluate(X_test[60000:],Y_test[60000:], verbose=0)[0]"
   ]
  },
  {
   "cell_type": "code",
   "execution_count": null,
   "metadata": {},
   "outputs": [],
   "source": [
    "def r_m_s_e(y_true, y_pred):\n",
    "        print(K.int_shape(y_pred))\n",
    "   # if no_of_sources==1:\n",
    "   #     return K.sqrt(K.mean(K.square(K.abs(y_pred-y_true)))) \n",
    "   # else:\n",
    "        total=no_of_sources*batch_size\n",
    "        \n",
    "        b=K.repeat_elements(y_true,no_of_sources,axis=0)\n",
    "        print(\"b \",K.int_shape(b))\n",
    "        c=K.repeat_elements(y_pred,no_of_sources,axis=1)\n",
    "        print(K.int_shape(c))\n",
    "        c=K.reshape(c,(total,no_of_sources))\n",
    "        print(K.int_shape(c))\n",
    "        d=b-c\n",
    "        print(K.int_shape(d))\n",
    "        d=K.abs(d)\n",
    "        mini1=K.min(d,axis=1)\n",
    "        print(K.int_shape(mini1))\n",
    "        mini1=K.reshape(mini1,(batch_size,no_of_sources))\n",
    "        print(K.int_shape(mini1))\n",
    "        \n",
    "        return K.sqrt(K.mean(K.square(mini1),axis=-1)) "
   ]
  },
  {
   "cell_type": "code",
   "execution_count": null,
   "metadata": {},
   "outputs": [],
   "source": [
    "with open('/trainHistoryDict', 'wb') as file_pi:\n",
    "        pickle.dump(history.history, file_pi)"
   ]
  },
  {
   "cell_type": "code",
   "execution_count": null,
   "metadata": {},
   "outputs": [],
   "source": [
    "print(history.history.keys())\n",
    "# summarize history for loss\n",
    "plt.plot(history.history['r_m_s_e'])\n",
    "plt.plot(history.history['val_r_m_s_e'])\n",
    "plt.title('model loss')\n",
    "plt.ylabel('loss')\n",
    "plt.xlabel('epoch')\n",
    "plt.legend(['train', 'test'], loc='upper left')\n",
    "plt.show()\n"
   ]
  },
  {
   "cell_type": "code",
   "execution_count": null,
   "metadata": {},
   "outputs": [],
   "source": []
  },
  {
   "cell_type": "code",
   "execution_count": null,
   "metadata": {},
   "outputs": [],
   "source": []
  },
  {
   "cell_type": "code",
   "execution_count": null,
   "metadata": {},
   "outputs": [],
   "source": [
    "a=np.arange(24)\n",
    "a"
   ]
  },
  {
   "cell_type": "code",
   "execution_count": null,
   "metadata": {},
   "outputs": [],
   "source": [
    "a=a.reshape((4,3,2))\n",
    "a"
   ]
  },
  {
   "cell_type": "code",
   "execution_count": null,
   "metadata": {},
   "outputs": [],
   "source": [
    "b=np.zeros((4,3))"
   ]
  },
  {
   "cell_type": "code",
   "execution_count": null,
   "metadata": {},
   "outputs": [],
   "source": [
    "for i in range(4):\n",
    "    b[i,]=a[i,:,0]"
   ]
  },
  {
   "cell_type": "code",
   "execution_count": null,
   "metadata": {},
   "outputs": [],
   "source": [
    "b"
   ]
  },
  {
   "cell_type": "code",
   "execution_count": null,
   "metadata": {},
   "outputs": [],
   "source": [
    "a=b"
   ]
  },
  {
   "cell_type": "code",
   "execution_count": null,
   "metadata": {},
   "outputs": [],
   "source": [
    "a"
   ]
  },
  {
   "cell_type": "code",
   "execution_count": null,
   "metadata": {},
   "outputs": [],
   "source": [
    "a[2:]"
   ]
  },
  {
   "cell_type": "code",
   "execution_count": null,
   "metadata": {},
   "outputs": [],
   "source": [
    "from sklearn.utils import shuffle\n",
    "import numpy as np\n",
    "\n",
    "X = np.array([[0, 0, 0], [1, 1, 1], [2, 2, 2], [3, 3, 3], [4, 4, 4]])\n",
    "y = np.array([0, 1, 2, 3, 4])\n",
    "y=y.reshape((5,1))\n",
    "X, y = shuffle(X, y)\n",
    "print(X)\n",
    "print(y)\n",
    "\n"
   ]
  },
  {
   "cell_type": "code",
   "execution_count": null,
   "metadata": {},
   "outputs": [],
   "source": [
    "import numpy as np"
   ]
  },
  {
   "cell_type": "code",
   "execution_count": null,
   "metadata": {},
   "outputs": [],
   "source": [
    "X1=np.arange(24)"
   ]
  },
  {
   "cell_type": "code",
   "execution_count": null,
   "metadata": {},
   "outputs": [],
   "source": [
    "X1"
   ]
  },
  {
   "cell_type": "code",
   "execution_count": null,
   "metadata": {},
   "outputs": [],
   "source": [
    "X1=X1.reshape((4,3,2))"
   ]
  },
  {
   "cell_type": "code",
   "execution_count": null,
   "metadata": {},
   "outputs": [],
   "source": [
    "X1"
   ]
  },
  {
   "cell_type": "code",
   "execution_count": null,
   "metadata": {},
   "outputs": [],
   "source": [
    "m=np.zeros((X1.shape[0],X1.shape[2],X1.shape[1]))\n",
    "for i in range(X1.shape[0]):\n",
    "    for j in range(X1.shape[2]):\n",
    "        m[i,j,:]=X1[i,:,j]"
   ]
  },
  {
   "cell_type": "code",
   "execution_count": null,
   "metadata": {},
   "outputs": [],
   "source": [
    "X1=m"
   ]
  },
  {
   "cell_type": "code",
   "execution_count": null,
   "metadata": {},
   "outputs": [],
   "source": [
    "X2=np.arange(24,48)"
   ]
  },
  {
   "cell_type": "code",
   "execution_count": null,
   "metadata": {},
   "outputs": [],
   "source": [
    "X2.shape"
   ]
  },
  {
   "cell_type": "code",
   "execution_count": null,
   "metadata": {},
   "outputs": [],
   "source": [
    "X2=X2.reshape((4,2,3))"
   ]
  },
  {
   "cell_type": "code",
   "execution_count": null,
   "metadata": {},
   "outputs": [],
   "source": [
    "X2"
   ]
  },
  {
   "cell_type": "code",
   "execution_count": null,
   "metadata": {},
   "outputs": [],
   "source": [
    "c=np.vstack((X1,X2))\n",
    "c.shape"
   ]
  },
  {
   "cell_type": "code",
   "execution_count": null,
   "metadata": {},
   "outputs": [],
   "source": [
    "c"
   ]
  },
  {
   "cell_type": "code",
   "execution_count": null,
   "metadata": {},
   "outputs": [],
   "source": [
    "import numpy as np"
   ]
  },
  {
   "cell_type": "code",
   "execution_count": null,
   "metadata": {},
   "outputs": [],
   "source": [
    "a=np.array([1,2])"
   ]
  },
  {
   "cell_type": "code",
   "execution_count": null,
   "metadata": {},
   "outputs": [],
   "source": [
    "a"
   ]
  },
  {
   "cell_type": "code",
   "execution_count": null,
   "metadata": {},
   "outputs": [],
   "source": [
    "y_pred=K.variable([[1,2,11,30]])\n",
    "y_true=K.variable([[10,11,30,50]])"
   ]
  },
  {
   "cell_type": "code",
   "execution_count": null,
   "metadata": {},
   "outputs": [],
   "source": [
    "z=K.variable([[y_true[0]-y_pred[0],  y_true[0]-y_pred[1],  y_true[0]-y_pred[2],  y_true[0]-y_pred[3]]])"
   ]
  },
  {
   "cell_type": "code",
   "execution_count": null,
   "metadata": {},
   "outputs": [],
   "source": [
    "K.eval(y_true)"
   ]
  },
  {
   "cell_type": "code",
   "execution_count": null,
   "metadata": {},
   "outputs": [],
   "source": [
    "top=2\n",
    "y_pred, y_pred_ind_k = tf.nn.top_k(y_pred, top)\n",
    "y_true, y_true_ind_k = tf.nn.top_k(y_true, top)"
   ]
  },
  {
   "cell_type": "code",
   "execution_count": null,
   "metadata": {},
   "outputs": [],
   "source": [
    "K.eval(y_pred)"
   ]
  },
  {
   "cell_type": "code",
   "execution_count": null,
   "metadata": {},
   "outputs": [],
   "source": [
    "y_true, y_true_ind_k = tf.nn.top_k(y_true, top)"
   ]
  },
  {
   "cell_type": "code",
   "execution_count": null,
   "metadata": {},
   "outputs": [],
   "source": [
    "K.eval(y_true)"
   ]
  },
  {
   "cell_type": "code",
   "execution_count": null,
   "metadata": {},
   "outputs": [],
   "source": [
    "np_y_pred=np.array([1,2,11,30])\n",
    "np_y_true=np.array([10,11,30,50])"
   ]
  },
  {
   "cell_type": "code",
   "execution_count": null,
   "metadata": {},
   "outputs": [],
   "source": [
    "c=np.zeros((4,))"
   ]
  },
  {
   "cell_type": "code",
   "execution_count": null,
   "metadata": {},
   "outputs": [],
   "source": [
    "one_sided=helper(np_y_pred,np_y_true)\n",
    "two_sided=helper(np_y_true,np_y_pred)"
   ]
  },
  {
   "cell_type": "code",
   "execution_count": null,
   "metadata": {},
   "outputs": [],
   "source": [
    "one_sided"
   ]
  },
  {
   "cell_type": "code",
   "execution_count": null,
   "metadata": {},
   "outputs": [],
   "source": [
    "two_sided"
   ]
  },
  {
   "cell_type": "code",
   "execution_count": null,
   "metadata": {},
   "outputs": [],
   "source": [
    "combined=np.concatenate([one_sided,two_sided])"
   ]
  },
  {
   "cell_type": "code",
   "execution_count": null,
   "metadata": {},
   "outputs": [],
   "source": [
    "combined"
   ]
  },
  {
   "cell_type": "code",
   "execution_count": null,
   "metadata": {},
   "outputs": [],
   "source": [
    "for i in range(0,4):\n",
    "    for j in range(0,4):\n",
    "        a=abs(np_y_true[j]-np_y_pred[i])\n",
    "        print(a)\n",
    "        b[j]=a\n",
    "    c[i]=min(b)"
   ]
  },
  {
   "cell_type": "code",
   "execution_count": null,
   "metadata": {},
   "outputs": [],
   "source": [
    "c"
   ]
  },
  {
   "cell_type": "code",
   "execution_count": null,
   "metadata": {},
   "outputs": [],
   "source": [
    "ker=K.variable(value=combined)"
   ]
  },
  {
   "cell_type": "code",
   "execution_count": null,
   "metadata": {},
   "outputs": [],
   "source": [
    "K.eval(K.sqrt(K.mean(K.square(ker))) )"
   ]
  },
  {
   "cell_type": "code",
   "execution_count": null,
   "metadata": {},
   "outputs": [],
   "source": [
    "K.eval(ker)"
   ]
  },
  {
   "cell_type": "code",
   "execution_count": null,
   "metadata": {},
   "outputs": [],
   "source": [
    "d=K.eval(ker)"
   ]
  },
  {
   "cell_type": "code",
   "execution_count": null,
   "metadata": {},
   "outputs": [],
   "source": [
    "d"
   ]
  },
  {
   "cell_type": "code",
   "execution_count": null,
   "metadata": {},
   "outputs": [],
   "source": [
    "X_real, X_imag, label =eng.Copy_of_doa(5.0,nargout=3)\n",
    "X_real=np.asarray(X_real)\n",
    "X_imag=np.asarray(X_imag)\n",
    "label=np.asarray(label)"
   ]
  },
  {
   "cell_type": "code",
   "execution_count": null,
   "metadata": {},
   "outputs": [],
   "source": [
    "label.shape"
   ]
  },
  {
   "cell_type": "code",
   "execution_count": null,
   "metadata": {},
   "outputs": [],
   "source": [
    "X_real.shape"
   ]
  },
  {
   "cell_type": "code",
   "execution_count": null,
   "metadata": {},
   "outputs": [],
   "source": [
    "y_pred=np.array([[1,2,11,30],\n",
    "                 [3,4,9,10]])\n",
    "y_true=np.array([[10,11,30,50],\n",
    "                 [9,10,11,12]])\n",
    "y_pred.shape"
   ]
  },
  {
   "cell_type": "code",
   "execution_count": null,
   "metadata": {},
   "outputs": [],
   "source": [
    "y_pred=y_pred.reshape((2,1,4))\n",
    "y_pred"
   ]
  },
  {
   "cell_type": "code",
   "execution_count": null,
   "metadata": {},
   "outputs": [],
   "source": [
    "one=np.ones((2,4,1))"
   ]
  },
  {
   "cell_type": "code",
   "execution_count": null,
   "metadata": {},
   "outputs": [],
   "source": [
    "b=np.dot(one,y_pred, axes=1)"
   ]
  },
  {
   "cell_type": "code",
   "execution_count": null,
   "metadata": {},
   "outputs": [],
   "source": [
    "b.shape"
   ]
  },
  {
   "cell_type": "code",
   "execution_count": null,
   "metadata": {},
   "outputs": [],
   "source": [
    "b"
   ]
  },
  {
   "cell_type": "code",
   "execution_count": null,
   "metadata": {},
   "outputs": [],
   "source": [
    "a=np.array([[1,2,11,30], [1,2,4,5]])"
   ]
  },
  {
   "cell_type": "code",
   "execution_count": null,
   "metadata": {},
   "outputs": [],
   "source": [
    "b = np.repeat(a, 4, axis=0)"
   ]
  },
  {
   "cell_type": "code",
   "execution_count": null,
   "metadata": {},
   "outputs": [],
   "source": [
    "b"
   ]
  },
  {
   "cell_type": "code",
   "execution_count": null,
   "metadata": {},
   "outputs": [],
   "source": [
    "c=np.array([[10,11,30,50], [5,4,9,10]])"
   ]
  },
  {
   "cell_type": "code",
   "execution_count": null,
   "metadata": {},
   "outputs": [],
   "source": [
    "c=np.array([[10,11,30,50], [5,4,9,10]])\n",
    "c = np.repeat(c, len(c[0]), axis=1)\n",
    "print(c)\n",
    "print(c.shape)\n",
    "\n",
    "c = c.reshape(8, 4)\n",
    "print(c)"
   ]
  },
  {
   "cell_type": "code",
   "execution_count": null,
   "metadata": {},
   "outputs": [],
   "source": [
    "d=np.subtract(b,c)"
   ]
  },
  {
   "cell_type": "code",
   "execution_count": null,
   "metadata": {},
   "outputs": [],
   "source": [
    "d=np.abs(d)"
   ]
  },
  {
   "cell_type": "code",
   "execution_count": null,
   "metadata": {},
   "outputs": [],
   "source": [
    "d"
   ]
  },
  {
   "cell_type": "code",
   "execution_count": null,
   "metadata": {},
   "outputs": [],
   "source": [
    "mini=np.min(d, axis=1)"
   ]
  },
  {
   "cell_type": "code",
   "execution_count": null,
   "metadata": {},
   "outputs": [],
   "source": [
    "mini=mini.reshape(2,4)"
   ]
  },
  {
   "cell_type": "code",
   "execution_count": null,
   "metadata": {},
   "outputs": [],
   "source": [
    "mini"
   ]
  },
  {
   "cell_type": "code",
   "execution_count": null,
   "metadata": {},
   "outputs": [],
   "source": [
    "d=d.reshape(2,4,4)"
   ]
  },
  {
   "cell_type": "code",
   "execution_count": null,
   "metadata": {},
   "outputs": [],
   "source": [
    "d"
   ]
  },
  {
   "cell_type": "code",
   "execution_count": null,
   "metadata": {},
   "outputs": [],
   "source": [
    "mini=np.min(d, axis=1)\n",
    "mini"
   ]
  },
  {
   "cell_type": "code",
   "execution_count": null,
   "metadata": {},
   "outputs": [],
   "source": [
    "no_of_sources=2\n",
    "batch_size=4"
   ]
  },
  {
   "cell_type": "code",
   "execution_count": null,
   "metadata": {},
   "outputs": [],
   "source": [
    "def r_m_s_e(y_true, y_pred):\n",
    "        print(K.int_shape(y_pred))\n",
    "   # if no_of_sources==1:\n",
    "   #     return K.sqrt(K.mean(K.square(K.abs(y_pred-y_true)))) \n",
    "   # else:\n",
    "        total=no_of_sources*batch_size\n",
    "        \n",
    "        b=K.repeat_elements(y_true,no_of_sources,axis=0)\n",
    "        print(\"b \",K.int_shape(b))\n",
    "        c=K.repeat_elements(y_pred,no_of_sources,axis=1)\n",
    "        print(K.int_shape(c))\n",
    "        c=K.reshape(c,(total,no_of_sources))\n",
    "        print(K.int_shape(c))\n",
    "        d=b-c\n",
    "        print(K.int_shape(d))\n",
    "        d=K.abs(d)\n",
    "        mini1=K.min(d,axis=1)\n",
    "        print(K.int_shape(mini1))\n",
    "        mini1=K.reshape(mini1,(batch_size,no_of_sources))\n",
    "        print(K.int_shape(mini1))\n",
    "        \n",
    "        return K.sqrt(K.mean(K.square(mini1),axis=-1)) "
   ]
  },
  {
   "cell_type": "code",
   "execution_count": null,
   "metadata": {},
   "outputs": [],
   "source": [
    "y_true = K.variable([[10,5],\n",
    "                    [9,3],\n",
    "                    [8,7],\n",
    "                    [6,5]])\n",
    "y_pred = K.variable([[8,9],\n",
    "                    [8,4],\n",
    "                    [9,10],\n",
    "                    [14,15]])\n",
    "#Aloss=r_m_s_e(y_true,y_pred)\n",
    "#print(K.eval(loss))\n"
   ]
  },
  {
   "cell_type": "code",
   "execution_count": null,
   "metadata": {},
   "outputs": [],
   "source": [
    "K.eval(r_m_s_e(y_true,y_pred))"
   ]
  },
  {
   "cell_type": "code",
   "execution_count": null,
   "metadata": {},
   "outputs": [],
   "source": []
  },
  {
   "cell_type": "code",
   "execution_count": null,
   "metadata": {},
   "outputs": [],
   "source": []
  },
  {
   "cell_type": "code",
   "execution_count": null,
   "metadata": {},
   "outputs": [],
   "source": []
  },
  {
   "cell_type": "code",
   "execution_count": null,
   "metadata": {},
   "outputs": [],
   "source": []
  },
  {
   "cell_type": "code",
   "execution_count": null,
   "metadata": {},
   "outputs": [],
   "source": []
  },
  {
   "cell_type": "code",
   "execution_count": null,
   "metadata": {},
   "outputs": [],
   "source": [
    "y_true.shape"
   ]
  },
  {
   "cell_type": "code",
   "execution_count": null,
   "metadata": {},
   "outputs": [],
   "source": [
    "def mean_np(y_true,y_pred):\n",
    "    return np.mean(np.square((y_pred-y_true)))"
   ]
  },
  {
   "cell_type": "code",
   "execution_count": null,
   "metadata": {},
   "outputs": [],
   "source": [
    "def mean_squared_error_k(y_true, y_pred):\n",
    "    return K.mean(K.square(y_pred - y_true), axis=-1)"
   ]
  },
  {
   "cell_type": "code",
   "execution_count": null,
   "metadata": {},
   "outputs": [],
   "source": [
    "K.eval(mean_squared_error_k(y_true,y_pred))"
   ]
  },
  {
   "cell_type": "code",
   "execution_count": null,
   "metadata": {},
   "outputs": [],
   "source": [
    "def mean_squared_error(y_true, y_pred):\n",
    "    return K.mean(K.square(y_pred-y_true),axis = -1)"
   ]
  },
  {
   "cell_type": "code",
   "execution_count": null,
   "metadata": {},
   "outputs": [],
   "source": [
    "loss=mean_squared_error(y_true,y_pred)\n",
    "print(K.eval(loss))\n"
   ]
  },
  {
   "cell_type": "code",
   "execution_count": null,
   "metadata": {},
   "outputs": [],
   "source": [
    "def mean_squared_error(y_true, y_pred):\n",
    "    return K.mean(K.square(y_pred - y_true))"
   ]
  },
  {
   "cell_type": "code",
   "execution_count": null,
   "metadata": {},
   "outputs": [],
   "source": [
    "y=mean_squared_error(y_true,y_pred)"
   ]
  },
  {
   "cell_type": "code",
   "execution_count": null,
   "metadata": {},
   "outputs": [],
   "source": [
    "y.shape"
   ]
  },
  {
   "cell_type": "code",
   "execution_count": null,
   "metadata": {},
   "outputs": [],
   "source": [
    "K.eval(y)"
   ]
  },
  {
   "cell_type": "code",
   "execution_count": null,
   "metadata": {},
   "outputs": [],
   "source": []
  }
 ],
 "metadata": {
  "kernelspec": {
   "display_name": "Python 3",
   "language": "python",
   "name": "python3"
  },
  "language_info": {
   "codemirror_mode": {
    "name": "ipython",
    "version": 3
   },
   "file_extension": ".py",
   "mimetype": "text/x-python",
   "name": "python",
   "nbconvert_exporter": "python",
   "pygments_lexer": "ipython3",
   "version": "3.6.9"
  }
 },
 "nbformat": 4,
 "nbformat_minor": 2
}
